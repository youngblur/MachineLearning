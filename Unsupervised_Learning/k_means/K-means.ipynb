{
 "cells": [
  {
   "cell_type": "code",
   "execution_count": 13,
   "metadata": {
    "collapsed": false
   },
   "outputs": [
    {
     "name": "stdout",
     "output_type": "stream",
     "text": [
      "[[ 0.68461144 -3.26775369]\n",
      " [ 0.41329784 -2.00846352]\n",
      " [ 0.44501165  1.0128835 ]\n",
      " [-0.8375292   4.92363415]]\n",
      "[[ 1.278582   -3.45559463]\n",
      " [-1.82930245 -2.37206195]\n",
      " [ 1.433159    2.27756348]\n",
      " [-1.30462025  3.48064   ]]\n",
      "[[ 2.7481024  -2.90572575]\n",
      " [-3.53973889 -2.89384326]\n",
      " [ 2.53499033  2.93781533]\n",
      " [-2.46154315  2.78737555]]\n",
      "[[ 2.65077367 -2.79019029]\n",
      " [-3.53973889 -2.89384326]\n",
      " [ 2.6265299   3.10868015]\n",
      " [-2.46154315  2.78737555]]\n"
     ]
    }
   ],
   "source": [
    "import numpy as np\n",
    "\n",
    "def loadDataSet(fileName):\n",
    "    dataMat = []\n",
    "    fr = open(fileName,'r')\n",
    "    for line in fr.readlines():\n",
    "        curLine = line.strip().split('\\t')\n",
    "        fltLine = list(map(float,curLine))   #map将里面的值变为float \n",
    "        dataMat.append(fltLine)\n",
    "    return dataMat\n",
    "\n",
    "def distEclud(vecA,vecB):\n",
    "    return np.sqrt(np.sum(np.power(vecA-vecB,2)))\n",
    "\n",
    "#最开始 随机选 k 个 中心点\n",
    "def randCent(dataSet,k):\n",
    "    n = np.shape(dataSet)[1]\n",
    "    centroids = np.mat(np.zeros((k,n)))\n",
    "    for j in range(n):\n",
    "        minJ = np.min(dataSet[:,j])\n",
    "        rangeJ = float(np.max(dataSet[:,j]) - minJ)\n",
    "        centroids[:,j] = minJ +rangeJ * np.random.rand(k,1)  #随机一个 k行 1 列的矩阵\n",
    "    return centroids     \n",
    "\n",
    "def kMeans(dataSet,k,distMeans = distEclud,createCent=randCent):\n",
    "    m = np.shape(dataSet)[0]\n",
    "    clusterAssment = np.mat(np.zeros((m,2)))\n",
    "    centroids = createCent(dataSet,k)\n",
    "    clusterChanged  = True\n",
    "    while clusterChanged:\n",
    "        clusterChanged = False\n",
    "        for i in range(m):\n",
    "            minDist = np.inf\n",
    "            minIndex = -1\n",
    "            for j in range(k):\n",
    "                distJI = distMeans(centroids[j,:],dataSet[i,:])\n",
    "                if distJI < minDist:\n",
    "                    minDist = distJI\n",
    "                    minIndex = j\n",
    "            if clusterAssment[i,0] != minIndex:    # 跟新质心后，在进行while循环，如果最小值都相同，则推出，如果最小值存在不同，则需要再循环\n",
    "                clusterChanged = True\n",
    "            clusterAssment[i,:] = minIndex,minDist**2\n",
    "        print(centroids)\n",
    "        for cent in range(k):\n",
    "            #np.nonzero 返回不为零的下标\n",
    "            ptsInClust = dataSet[np.nonzero(clusterAssment[:,0].A == cent)[0]]\n",
    "            centroids[cent,:] = np.mean(ptsInClust,axis = 0)\n",
    "    return centroids, clusterAssment\n",
    "\n",
    "dataMat = np.mat(loadDataSet('E:/pythonNotebook/Unsupervised_learning/testSet.txt'))\n",
    "myCentroids,clustAssing = kMeans(dataMat,4)"
   ]
  },
  {
   "cell_type": "code",
   "execution_count": 15,
   "metadata": {
    "collapsed": false
   },
   "outputs": [],
   "source": [
    "'''\n",
    "    二分 K-均值 聚类算法\n",
    "    1、首先将所有点作为一个簇，然后将该簇一分为二，之后选择其中一个簇继续进行划分，选择哪一个簇进行取决于其划分是否可以最大程度降低SSE的值\n",
    "    2、选择SSE最大的簇进行划分\n",
    "'''\n",
    "def biKmeans(dataSet,k,disMeans = distEclud):\n",
    "    m = np.shape(dataSet)[0]\n",
    "    clusterAssment = np.mat(np.zeros((m,2)))\n",
    "    centroid0 = np.mean(dataSet,axis = 0).tolist()[0]\n",
    "    centList = [cemtroid0]\n",
    "    for j in range(m):\n",
    "        clusterAssment[j,1] = distMeans(np.mat(centroid0),dataSet[j,:])**2\n",
    "    while(len(centList) < k ):\n",
    "        lowestSSE = np.inf\n",
    "        for i in range(len(centList)):\n",
    "            ptsInCurrCluster = dataSet[np.nonzero(clusterAssment[:,0].A ==i)[0],:]\n",
    "            centroidMat,splitClustAss = kMeans(ptsInCurrCluster,2,distMeans)\n",
    "            sseSplit = np.sum(splitClustAss[:,1])                     #进行划分后的子集的总SSE\n",
    "            sseNotSplit = np.sum(clusterAssment[np.nonzero(clusterAssment[:,0].A!=i)[0],1]) #未进行划分的子集的总SSE\n",
    "            \n",
    "            print('sseSplit , and notSplit',sseSplit,sseNotSplit)\n",
    "            \n",
    "            if (sseSplit + sseNotSplit) < lowestSSE:\n",
    "                bestCentToSplit = i\n",
    "                bestNewCents = centroidMat\n",
    "                bestClustAss = splitClustAss.copy()\n",
    "                lowestSSE = sseSplit + sseNotSplit\n",
    "        bestClustAss[np.nonzero(bestClustAss[:,0].A==1)[0],0] = len(centList)   #将划分后子集的一部分 序号标记为新的序号（+1）\n",
    "        bestClustAss[no.nonzero(bestClustAss[:,0].A==0)[0],0] = bestCentToSplit #将划分后子集的另一部分 更新原来的序号\n",
    "        \n",
    "        print('the bestCentToSplit is :', bestCentToSplit)\n",
    "        print('the len of bestClustAss is :', len(bestClustAss))\n",
    "        \n",
    "        centList[bestCentToSplit] = bestNewCents[0,:]        #跟新质点的序号\n",
    "        centList.append(bestNewCents[1,:])                   #对另一个质点 新加序号\n",
    "        clusterAssment[np.nonzero(clusterAssment[:,0].A == bestCentToSplit)[0],:] = bestClustAss\n",
    "        \n",
    "        return np.mat(centList),clusterAssment"
   ]
  },
  {
   "cell_type": "code",
   "execution_count": null,
   "metadata": {
    "collapsed": true
   },
   "outputs": [],
   "source": []
  }
 ],
 "metadata": {
  "kernelspec": {
   "display_name": "Python 3",
   "language": "python",
   "name": "python3"
  },
  "language_info": {
   "codemirror_mode": {
    "name": "ipython",
    "version": 3
   },
   "file_extension": ".py",
   "mimetype": "text/x-python",
   "name": "python",
   "nbconvert_exporter": "python",
   "pygments_lexer": "ipython3",
   "version": "3.6.0"
  }
 },
 "nbformat": 4,
 "nbformat_minor": 2
}
