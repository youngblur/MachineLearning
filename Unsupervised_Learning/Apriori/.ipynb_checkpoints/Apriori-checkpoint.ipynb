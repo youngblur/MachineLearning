{
 "cells": [
  {
   "cell_type": "markdown",
   "metadata": {},
   "source": [
    "# Apriori 寻找频繁项集"
   ]
  },
  {
   "cell_type": "code",
   "execution_count": 13,
   "metadata": {
    "collapsed": true
   },
   "outputs": [],
   "source": [
    "# Apriori 辅助函数\n",
    "\n",
    "def loadDataSet():\n",
    "    return [[1,3,4],[2,3,5],[1,2,3,5],[2,5]]\n",
    "\n",
    "\n",
    "def createC1(dataSet):\n",
    "    '''\n",
    "        构建大小为 1 的所有候选项集的集合\n",
    "    '''\n",
    "    C1 = []\n",
    "    for transaction in dataSet:\n",
    "        for item in transaction:\n",
    "            if not [item] in C1:\n",
    "                C1.append([item])\n",
    "    C1.sort()\n",
    "    # frozenset 是不可变集合   3.x 返回的不是list 所以强制转化为list\n",
    "    return list(map(frozenset,C1))\n",
    "\n",
    "def scanD(D,Ck,minSupport):\n",
    "    '''\n",
    "    D:数据集\n",
    "    Ck:候选相集\n",
    "    minSupport:最小支持度\n",
    "    '''\n",
    "    ssCnt = {}\n",
    "    for tid in D:\n",
    "        for can in Ck:\n",
    "            if can.issubset(tid):\n",
    "                ssCnt[can] = ssCnt.get(can,0) + 1\n",
    "    \n",
    "    numItems = float(len(D))\n",
    "    retList = []\n",
    "    supportData = {}\n",
    "    for key in ssCnt:\n",
    "        support = ssCnt[key] / numItems\n",
    "        if support >= minSupport:\n",
    "            retList.insert(0,key)\n",
    "        supportData[key] = support\n",
    "    return retList,supportData\n"
   ]
  },
  {
   "cell_type": "code",
   "execution_count": 14,
   "metadata": {
    "collapsed": false
   },
   "outputs": [
    {
     "data": {
      "text/plain": [
       "[[1, 3, 4], [2, 3, 5], [1, 2, 3, 5], [2, 5]]"
      ]
     },
     "execution_count": 14,
     "metadata": {},
     "output_type": "execute_result"
    }
   ],
   "source": [
    "dataSet = loadDataSet()\n",
    "dataSet"
   ]
  },
  {
   "cell_type": "code",
   "execution_count": 15,
   "metadata": {
    "collapsed": false
   },
   "outputs": [
    {
     "data": {
      "text/plain": [
       "[frozenset({1}),\n",
       " frozenset({2}),\n",
       " frozenset({3}),\n",
       " frozenset({4}),\n",
       " frozenset({5})]"
      ]
     },
     "execution_count": 15,
     "metadata": {},
     "output_type": "execute_result"
    }
   ],
   "source": [
    "C1 = createC1(dataSet)\n",
    "C1"
   ]
  },
  {
   "cell_type": "code",
   "execution_count": 16,
   "metadata": {
    "collapsed": false
   },
   "outputs": [
    {
     "data": {
      "text/plain": [
       "[{1, 3, 4}, {2, 3, 5}, {1, 2, 3, 5}, {2, 5}]"
      ]
     },
     "execution_count": 16,
     "metadata": {},
     "output_type": "execute_result"
    }
   ],
   "source": [
    "D = list(map(set,dataSet))\n",
    "D"
   ]
  },
  {
   "cell_type": "code",
   "execution_count": 17,
   "metadata": {
    "collapsed": false
   },
   "outputs": [
    {
     "data": {
      "text/plain": [
       "([frozenset({5}), frozenset({2}), frozenset({3})],\n",
       " {frozenset({1}): 0.5,\n",
       "  frozenset({3}): 0.75,\n",
       "  frozenset({4}): 0.25,\n",
       "  frozenset({2}): 0.75,\n",
       "  frozenset({5}): 0.75})"
      ]
     },
     "execution_count": 17,
     "metadata": {},
     "output_type": "execute_result"
    }
   ],
   "source": [
    "L1,supportData = scanD(D,C1,0.7)\n",
    "L1,supportData"
   ]
  },
  {
   "cell_type": "code",
   "execution_count": 24,
   "metadata": {
    "collapsed": false
   },
   "outputs": [],
   "source": [
    "#craetes Ck\n",
    "def aprioriGen(Lk,k):\n",
    "    retList = []\n",
    "    lenLk = len(Lk)\n",
    "    for i in range(lenLk):\n",
    "        for j in range(i+1,lenLk):\n",
    "            # 若前 k-2项 相同，因为 k-1 项肯定不相同\n",
    "            #第 k 项集 由 k-1项集产生， k-1项集 的 不包括最后一项 是 k-2项集\n",
    "            # F n -1  * F 1\n",
    "            L1 = list(Lk[i])[:k-2]    #k=2时， [:0] 表示空集\n",
    "            L2 = list(Lk[j])[:k-2]\n",
    "            L1.sort()\n",
    "            L2.sort()\n",
    "            \n",
    "            if L1 == L2:\n",
    "                #并集\n",
    "                retList.append(Lk[i] | Lk[j])\n",
    "          \n",
    "    return retList\n",
    "\n",
    "def apriori(dataSet,minSupport =0.5):\n",
    "    C1 = createC1(dataSet)\n",
    "    D = list(map(set,dataSet))\n",
    "    L1,supportData = scanD(D,C1,minSupport)\n",
    "    L = [L1]\n",
    "    k = 2\n",
    "    while (len(L[k-2]) > 0):\n",
    "        Ck = aprioriGen(L[k-2],k)\n",
    "        Lk,supK = scanD(D,Ck,minSupport)\n",
    "        supportData.update(supK)  #更新字典\n",
    "        L.append(Lk)\n",
    "        k += 1\n",
    "    return L,supportData"
   ]
  },
  {
   "cell_type": "code",
   "execution_count": 28,
   "metadata": {
    "collapsed": false
   },
   "outputs": [
    {
     "data": {
      "text/plain": [
       "([[frozenset({5}), frozenset({2}), frozenset({3}), frozenset({1})],\n",
       "  [frozenset({2, 3}), frozenset({3, 5}), frozenset({2, 5}), frozenset({1, 3})],\n",
       "  [frozenset({2, 3, 5})],\n",
       "  []],\n",
       " {frozenset({1}): 0.5,\n",
       "  frozenset({3}): 0.75,\n",
       "  frozenset({4}): 0.25,\n",
       "  frozenset({2}): 0.75,\n",
       "  frozenset({5}): 0.75,\n",
       "  frozenset({1, 3}): 0.5,\n",
       "  frozenset({2, 5}): 0.75,\n",
       "  frozenset({3, 5}): 0.5,\n",
       "  frozenset({2, 3}): 0.5,\n",
       "  frozenset({1, 5}): 0.25,\n",
       "  frozenset({1, 2}): 0.25,\n",
       "  frozenset({2, 3, 5}): 0.5})"
      ]
     },
     "execution_count": 28,
     "metadata": {},
     "output_type": "execute_result"
    }
   ],
   "source": [
    "L,supportData = apriori(dataSet)\n",
    "L,supportData"
   ]
  },
  {
   "cell_type": "markdown",
   "metadata": {},
   "source": [
    "# 从频繁项集挖掘关联规则"
   ]
  },
  {
   "cell_type": "code",
   "execution_count": 60,
   "metadata": {
    "collapsed": false
   },
   "outputs": [],
   "source": [
    "#主函数\n",
    "def generateRules(L,supportData,minConf = 0.7):\n",
    "    bigRuleList = []\n",
    "    for i in range(1,len(L)):\n",
    "        for freqSet in L[i]:\n",
    "            H1 = [frozenset([item]) for item in freqSet]\n",
    "            if (i > 1):      \n",
    "                #第三个频繁项集开始\n",
    "                rulesFromConseq(freqSet,H1,supportData,bigRuleList,minConf)\n",
    "            else:  \n",
    "                #频繁二项集\n",
    "                calcConf(freqSet,H1,supportData,bigRuleList,minConf)\n",
    "    return bigRuleList\n",
    "\n",
    "#用于计算规则的可信度，并存储\n",
    "def calcConf(freqSet,H,supportData,bigRuleList,minConf = 0.7):\n",
    "    prunedH = []\n",
    "    for conseq in H :\n",
    "        conf = supportData[freqSet] / supportData[freqSet  - conseq]\n",
    "        if conf >=minConf:\n",
    "            print(freqSet-conseq,'--->',conseq,'   conf:',conf)\n",
    "            bigRuleList.append((freqSet-conseq,conseq,conf))\n",
    "            prunedH.append(conseq)\n",
    "    return prunedH\n",
    "\n",
    "#用于产生规则\n",
    "def rulesFromConseq(freqSet,H,supportData,bigRuleList,minConf = 0.7):\n",
    "    m = len(H[0])\n",
    "    #满足 至少有一个元素可以在 左边\n",
    "    if(len(freqSet) >= (m+1)):\n",
    "        #对当前 作为右边的 一项集 进行评估 得到\n",
    "        Hmp1 = calcConf(freqSet,H,supportData,bigRuleList,minConf)\n",
    "        if len(Hmp1) > 1:\n",
    "            # 对右边进行合并\n",
    "            Hmp1 = aprioriGen(Hmp1,m+1)\n",
    "            #再对合并ho\n",
    "            rulesFromConseq(freqSet,Hmp1,supportData,bigRuleList,minConf)\n"
   ]
  },
  {
   "cell_type": "code",
   "execution_count": 61,
   "metadata": {
    "collapsed": false
   },
   "outputs": [
    {
     "name": "stdout",
     "output_type": "stream",
     "text": [
      "frozenset({3}) ---> frozenset({2})    conf: 0.6666666666666666\n",
      "frozenset({2}) ---> frozenset({3})    conf: 0.6666666666666666\n",
      "frozenset({5}) ---> frozenset({3})    conf: 0.6666666666666666\n",
      "frozenset({3}) ---> frozenset({5})    conf: 0.6666666666666666\n",
      "frozenset({5}) ---> frozenset({2})    conf: 1.0\n",
      "frozenset({2}) ---> frozenset({5})    conf: 1.0\n",
      "frozenset({3}) ---> frozenset({1})    conf: 0.6666666666666666\n",
      "frozenset({1}) ---> frozenset({3})    conf: 1.0\n",
      "frozenset({3, 5}) ---> frozenset({2})    conf: 1.0\n",
      "frozenset({2, 5}) ---> frozenset({3})    conf: 0.6666666666666666\n",
      "frozenset({2, 3}) ---> frozenset({5})    conf: 1.0\n",
      "frozenset({5}) ---> frozenset({2, 3})    conf: 0.6666666666666666\n",
      "frozenset({3}) ---> frozenset({2, 5})    conf: 0.6666666666666666\n",
      "frozenset({2}) ---> frozenset({3, 5})    conf: 0.6666666666666666\n"
     ]
    },
    {
     "data": {
      "text/plain": [
       "[(frozenset({3}), frozenset({2}), 0.6666666666666666),\n",
       " (frozenset({2}), frozenset({3}), 0.6666666666666666),\n",
       " (frozenset({5}), frozenset({3}), 0.6666666666666666),\n",
       " (frozenset({3}), frozenset({5}), 0.6666666666666666),\n",
       " (frozenset({5}), frozenset({2}), 1.0),\n",
       " (frozenset({2}), frozenset({5}), 1.0),\n",
       " (frozenset({3}), frozenset({1}), 0.6666666666666666),\n",
       " (frozenset({1}), frozenset({3}), 1.0),\n",
       " (frozenset({3, 5}), frozenset({2}), 1.0),\n",
       " (frozenset({2, 5}), frozenset({3}), 0.6666666666666666),\n",
       " (frozenset({2, 3}), frozenset({5}), 1.0),\n",
       " (frozenset({5}), frozenset({2, 3}), 0.6666666666666666),\n",
       " (frozenset({3}), frozenset({2, 5}), 0.6666666666666666),\n",
       " (frozenset({2}), frozenset({3, 5}), 0.6666666666666666)]"
      ]
     },
     "execution_count": 61,
     "metadata": {},
     "output_type": "execute_result"
    }
   ],
   "source": [
    "rules = generateRules(L,supportData,minConf = 0.5)\n",
    "rules"
   ]
  },
  {
   "cell_type": "code",
   "execution_count": null,
   "metadata": {
    "collapsed": true
   },
   "outputs": [],
   "source": []
  }
 ],
 "metadata": {
  "kernelspec": {
   "display_name": "Python 3",
   "language": "python",
   "name": "python3"
  },
  "language_info": {
   "codemirror_mode": {
    "name": "ipython",
    "version": 3
   },
   "file_extension": ".py",
   "mimetype": "text/x-python",
   "name": "python",
   "nbconvert_exporter": "python",
   "pygments_lexer": "ipython3",
   "version": "3.6.0"
  }
 },
 "nbformat": 4,
 "nbformat_minor": 2
}
